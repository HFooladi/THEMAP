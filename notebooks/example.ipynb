{
 "cells": [
  {
   "cell_type": "markdown",
   "metadata": {},
   "source": [
    "# Importing Required Libraries"
   ]
  },
  {
   "cell_type": "code",
   "execution_count": 1,
   "metadata": {},
   "outputs": [],
   "source": [
    "#import general packages\n",
    "import os\n",
    "import argparse\n",
    "import logging\n",
    "import sys\n",
    "from typing import Dict, List\n",
    "from dpu_utils.utils.richpath import RichPath\n",
    "import pickle\n",
    "\n",
    "import torch\n",
    "from tqdm import tqdm\n",
    "import pandas as pd\n",
    "\n",
    "# Setting up local details:\n",
    "# This should be the location of the checkout of the THEMAP repository:\n",
    "repo_path = os.path.dirname(os.path.abspath(\"\"))\n",
    "CHECKOUT_PATH = repo_path\n",
    "DATASET_PATH = os.path.join(repo_path, \"datasets\")\n",
    "\n",
    "os.chdir(CHECKOUT_PATH)\n",
    "sys.path.insert(0, CHECKOUT_PATH)"
   ]
  },
  {
   "cell_type": "code",
   "execution_count": 2,
   "metadata": {},
   "outputs": [],
   "source": [
    "# import visualization packages\n",
    "import matplotlib\n",
    "import matplotlib.pyplot as plt\n",
    "import seaborn as sns\n",
    "from sklearn.manifold import TSNE\n",
    "import pandas as pd\n",
    "from themap.utils import compute_task_hardness_from_distance_matrix, normalize, internal_hardness, otdd_hardness\n",
    "from themap.data import MoleculeDatapoint, MoleculeDataset\n",
    "\n",
    "\n",
    "light_color = plt.get_cmap(\"plasma\").colors[170]\n",
    "dark_color = \"black\"\n",
    "\n",
    "matplotlib.rcParams.update(\n",
    "    {\n",
    "        \"pgf.texsystem\": \"pdflatex\",\n",
    "        \"font.family\": \"serif\",\n",
    "        \"font.serif\": \"Computer Modern Roman\",\n",
    "        \"font.size\": 20,\n",
    "        \"text.usetex\": True,\n",
    "        \"pgf.rcfonts\": False,\n",
    "    }\n",
    ")"
   ]
  },
  {
   "cell_type": "markdown",
   "metadata": {},
   "source": [
    "# Create source and target datasets (Data)"
   ]
  },
  {
   "cell_type": "code",
   "execution_count": 3,
   "metadata": {},
   "outputs": [],
   "source": [
    "source_dataset_path = RichPath.create(os.path.join(DATASET_PATH, \"train\", \"CHEMBL1023359.jsonl.gz\"))\n",
    "target_dataset_path = RichPath.create(os.path.join(DATASET_PATH, \"test\", \"CHEMBL1963831.jsonl.gz\"))\n",
    "\n",
    "source_dataset = MoleculeDataset.load_from_file(source_dataset_path)\n",
    "target_dataset = MoleculeDataset.load_from_file(target_dataset_path)"
   ]
  },
  {
   "cell_type": "code",
   "execution_count": 4,
   "metadata": {},
   "outputs": [],
   "source": [
    "## compute and load the embeddings\n",
    "molecule_feaurizer = \"gin_supervised_infomax\"\n",
    "source_features = source_dataset.get_dataset_embedding(molecule_feaurizer)\n",
    "target_features = target_dataset.get_dataset_embedding(molecule_feaurizer)\n",
    "assert source_features.shape[1] == target_features.shape[1]"
   ]
  },
  {
   "cell_type": "code",
   "execution_count": null,
   "metadata": {},
   "outputs": [],
   "source": [
    "import torch\n",
    "torch.from_numpy(target_dataset.get_labels).type(torch.LongTensor)"
   ]
  },
  {
   "cell_type": "code",
   "execution_count": 17,
   "metadata": {},
   "outputs": [
    {
     "data": {
      "text/plain": [
       "True"
      ]
     },
     "execution_count": 17,
     "metadata": {},
     "output_type": "execute_result"
    }
   ],
   "source": [
    "import numpy as np\n",
    "isinstance(target_dataset.get_labels, np.ndarray)"
   ]
  }
 ],
 "metadata": {
  "kernelspec": {
   "display_name": "pytorch",
   "language": "python",
   "name": "python3"
  },
  "language_info": {
   "codemirror_mode": {
    "name": "ipython",
    "version": 3
   },
   "file_extension": ".py",
   "mimetype": "text/x-python",
   "name": "python",
   "nbconvert_exporter": "python",
   "pygments_lexer": "ipython3",
   "version": "3.10.12"
  }
 },
 "nbformat": 4,
 "nbformat_minor": 2
}
