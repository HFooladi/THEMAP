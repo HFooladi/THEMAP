{
 "cells": [
  {
   "cell_type": "code",
   "execution_count": null,
   "metadata": {},
   "outputs": [],
   "source": [
    "#import general packages\n",
    "import os\n",
    "import argparse\n",
    "import logging\n",
    "import sys\n",
    "from typing import Dict, List\n",
    "from dpu_utils.utils.richpath import RichPath\n",
    "import pickle\n",
    "\n",
    "import torch\n",
    "from tqdm import tqdm\n",
    "import pandas as pd\n",
    "\n",
    "# Setting up local details:\n",
    "# This should be the location of the checkout of the THEMAP repository:\n",
    "repo_path = os.path.dirname(os.path.abspath(\"\"))\n",
    "CHECKOUT_PATH = repo_path\n",
    "DATASET_PATH = os.path.join(repo_path, \"datasets\")\n",
    "EXT_CHEM_PATH = os.path.join(DATASET_PATH, \"fsmol_hardness\", \"ext_chem\")\n",
    "PROTONET_PATH = os.path.join(DATASET_PATH, \"fsmol_hardness\", \"FSMol_Eval_ProtoNet\")\n",
    "INTRA_HARDNESS_TRAIN_PATH = os.path.join(DATASET_PATH, \"fsmol_hardness\", \"int_chem\", \"train\")\n",
    "INTRA_HARDNESS_TEST_PATH = os.path.join(DATASET_PATH, \"fsmol_hardness\", \"int_chem\", \"test\")\n",
    "\n",
    "os.chdir(CHECKOUT_PATH)\n",
    "sys.path.insert(0, CHECKOUT_PATH)"
   ]
  }
 ],
 "metadata": {
  "language_info": {
   "name": "python"
  }
 },
 "nbformat": 4,
 "nbformat_minor": 2
}
