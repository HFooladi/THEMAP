{
 "cells": [
  {
   "cell_type": "markdown",
   "metadata": {},
   "source": [
    "# Importing Required Libraries\n",
    "\n",
    "First, we are importing the libraries and modules that are required for running this notebook."
   ]
  },
  {
   "cell_type": "code",
   "execution_count": 1,
   "metadata": {},
   "outputs": [],
   "source": [
    "#import general packages\n",
    "import os\n",
    "import argparse\n",
    "import logging\n",
    "import sys\n",
    "from typing import Dict, List\n",
    "from dpu_utils.utils.richpath import RichPath\n",
    "import pickle\n",
    "\n",
    "import torch\n",
    "from tqdm.notebook import tqdm\n",
    "import pandas as pd\n",
    "\n",
    "# Setting up local details:\n",
    "# This should be the location of the checkout of the THEMAP repository:\n",
    "repo_path = os.path.dirname(os.path.abspath(\"\"))\n",
    "CHECKOUT_PATH = repo_path\n",
    "DATASET_PATH = os.path.join(repo_path, \"datasets\")\n",
    "\n",
    "os.chdir(CHECKOUT_PATH)\n",
    "sys.path.insert(0, CHECKOUT_PATH)"
   ]
  },
  {
   "cell_type": "code",
   "execution_count": 28,
   "metadata": {},
   "outputs": [
    {
     "name": "stderr",
     "output_type": "stream",
     "text": [
      "ot.gpu not found - coupling computation will be in cpu\n"
     ]
    }
   ],
   "source": [
    "from third_party.otdd.otdd.pytorch.datasets import MolDataset, load_molecule_data\n",
    "from third_party.otdd.otdd.pytorch.distance import DatasetDistance"
   ]
  },
  {
   "cell_type": "code",
   "execution_count": 82,
   "metadata": {},
   "outputs": [],
   "source": [
    "# import visualization packages\n",
    "%matplotlib inline\n",
    "import matplotlib\n",
    "import matplotlib.pyplot as plt\n",
    "import seaborn as sns\n",
    "from sklearn.manifold import TSNE\n",
    "import pandas as pd\n",
    "from themap.utils import compute_task_hardness_from_distance_matrix, normalize, internal_hardness, otdd_hardness\n",
    "from themap.data import MoleculeDatapoint, MoleculeDataset\n",
    "\n",
    "\n",
    "light_color = plt.get_cmap(\"plasma\").colors[170]\n",
    "dark_color = \"black\"\n",
    "\n",
    "matplotlib.rcParams.update(\n",
    "    {\n",
    "        \"pgf.texsystem\": \"pdflatex\",\n",
    "        \"font.family\": \"serif\",\n",
    "        \"font.serif\": \"Computer Modern Roman\",\n",
    "        \"font.size\": 20,\n",
    "        \"text.usetex\": True,\n",
    "        \"pgf.rcfonts\": False,\n",
    "    }\n",
    ")"
   ]
  },
  {
   "cell_type": "markdown",
   "metadata": {},
   "source": [
    "# Create source and target datasets (Data)"
   ]
  },
  {
   "cell_type": "code",
   "execution_count": 98,
   "metadata": {},
   "outputs": [],
   "source": [
    "source_dataset_path = RichPath.create(os.path.join(DATASET_PATH, \"train\", \"CHEMBL1023359.jsonl.gz\"))\n",
    "target_dataset_path = RichPath.create(os.path.join(DATASET_PATH, \"test\", \"CHEMBL2219358.jsonl.gz\"))\n",
    "\n",
    "source_dataset = MoleculeDataset.load_from_file(source_dataset_path)\n",
    "target_dataset = MoleculeDataset.load_from_file(target_dataset_path)"
   ]
  },
  {
   "cell_type": "code",
   "execution_count": 99,
   "metadata": {},
   "outputs": [],
   "source": [
    "## compute and load the embeddings\n",
    "molecule_feaurizer = \"gin_supervised_infomax\"\n",
    "source_features = source_dataset.get_dataset_embedding(molecule_feaurizer)\n",
    "target_features = target_dataset.get_dataset_embedding(molecule_feaurizer)\n",
    "assert source_features.shape[1] == target_features.shape[1]"
   ]
  },
  {
   "cell_type": "code",
   "execution_count": 100,
   "metadata": {},
   "outputs": [],
   "source": [
    "source_dataset_otdd = MolDataset(source_dataset)\n",
    "target_dataset_otdd = MolDataset(target_dataset)"
   ]
  },
  {
   "cell_type": "code",
   "execution_count": 101,
   "metadata": {},
   "outputs": [],
   "source": [
    "source_dataset_loader = load_molecule_data(source_dataset)\n",
    "target_dataset_loader = load_molecule_data(target_dataset)"
   ]
  },
  {
   "cell_type": "code",
   "execution_count": 102,
   "metadata": {},
   "outputs": [
    {
     "data": {
      "application/vnd.jupyter.widget-view+json": {
       "model_id": "73044c1c603d4a7b9d5bb212b8a32a72",
       "version_major": 2,
       "version_minor": 0
      },
      "text/plain": [
       "  0%|          | 0/1 [00:00<?, ?it/s]"
      ]
     },
     "metadata": {},
     "output_type": "display_data"
    },
    {
     "data": {
      "application/vnd.jupyter.widget-view+json": {
       "model_id": "7fd943455384455f9c9d61578f47f6b8",
       "version_major": 2,
       "version_minor": 0
      },
      "text/plain": [
       "  0%|          | 0/3 [00:00<?, ?it/s]"
      ]
     },
     "metadata": {},
     "output_type": "display_data"
    },
    {
     "data": {
      "application/vnd.jupyter.widget-view+json": {
       "model_id": "556ce5a13e3648fcbe6a5be463ace74e",
       "version_major": 2,
       "version_minor": 0
      },
      "text/plain": [
       "  0%|          | 0/1 [00:00<?, ?it/s]"
      ]
     },
     "metadata": {},
     "output_type": "display_data"
    },
    {
     "data": {
      "application/vnd.jupyter.widget-view+json": {
       "model_id": "c067195874384e79a187bd6184fad1d3",
       "version_major": 2,
       "version_minor": 0
      },
      "text/plain": [
       "  0%|          | 0/1 [00:00<?, ?it/s]"
      ]
     },
     "metadata": {},
     "output_type": "display_data"
    },
    {
     "data": {
      "application/vnd.jupyter.widget-view+json": {
       "model_id": "bf0c7d45f0f24ed7a5ccf15ba1d13cfb",
       "version_major": 2,
       "version_minor": 0
      },
      "text/plain": [
       "  0%|          | 0/4 [00:00<?, ?it/s]"
      ]
     },
     "metadata": {},
     "output_type": "display_data"
    },
    {
     "name": "stdout",
     "output_type": "stream",
     "text": [
      "OTDD(src,tgt)=7.07429838180542\n"
     ]
    }
   ],
   "source": [
    "# Instantiate distance\n",
    "dist = DatasetDistance(source_dataset_loader, target_dataset_loader,\n",
    "                       inner_ot_method = 'exact',\n",
    "                       debiased_loss = True,\n",
    "                       p = 2, entreg = 1e-1,\n",
    "                       device='cuda' if torch.cuda.is_available() else 'cpu')\n",
    "\n",
    "d = dist.distance(maxsamples = 1000)\n",
    "print(f'OTDD(src,tgt)={d}')"
   ]
  },
  {
   "cell_type": "markdown",
   "metadata": {},
   "source": [
    "## Calculate chemcial distance between target datasets with all the source datasets"
   ]
  },
  {
   "cell_type": "code",
   "execution_count": null,
   "metadata": {},
   "outputs": [],
   "source": [
    "import glob\n",
    "source_datasets_path = glob.glob(os.path.join(DATASET_PATH, \"train\", \"CHEMBL*\"))\n",
    "target_datasets_path = glob.glob(os.path.join(DATASET_PATH, \"test\", \"CHEMBL*\"))\n",
    "chem_distances = {}\n",
    "for target_path in tqdm(target_datasets_path):\n",
    "    chem_distance = {}\n",
    "    target_dataset_path = RichPath.create(target_path)\n",
    "    target_dataset = MoleculeDataset.load_from_file(target_dataset_path)\n",
    "    target_features = target_dataset.get_dataset_embedding(molecule_feaurizer)\n",
    "    target_dataset_otdd = MolDataset(target_dataset)\n",
    "    target_dataset_loader = load_molecule_data(target_dataset)\n",
    "    for source_path in source_datasets_path:\n",
    "        source_dataset_path = RichPath.create(source_path)\n",
    "        source_dataset = MoleculeDataset.load_from_file(source_dataset_path)\n",
    "        source_features = source_dataset.get_dataset_embedding(molecule_feaurizer)\n",
    "        source_dataset_otdd = MolDataset(source_dataset)\n",
    "        source_dataset_loader = load_molecule_data(source_dataset)\n",
    "\n",
    "        dist = DatasetDistance(source_dataset_loader, target_dataset_loader,\n",
    "                               inner_ot_method = 'exact',\n",
    "                               debiased_loss = True,\n",
    "                               p = 2, entreg = 1e-1,\n",
    "                               device='cuda' if torch.cuda.is_available() else 'cpu')\n",
    "        \n",
    "        d = dist.distance(maxsamples = 1000)\n",
    "        print(f'OTDD({source_dataset.task_id},{target_dataset.task_id})= {d}')\n",
    "        chem_distance[source_dataset.task_id] = d.cpu().item()\n",
    "    chem_distances[target_dataset.task_id] = chem_distance\n"
   ]
  },
  {
   "cell_type": "code",
   "execution_count": 124,
   "metadata": {},
   "outputs": [
    {
     "data": {
      "image/png": "[encoded data removed]",
      "text/plain": [
       "<Figure size 1200x500 with 1 Axes>"
      ]
     },
     "metadata": {},
     "output_type": "display_data"
    }
   ],
   "source": [
    "## Choose your target from chem_distances.keys()\n",
    "chem_dist = chem_distances['CHEMBL2219236']\n",
    "fig = plt.figure(figsize=(12, 5))\n",
    "plt.bar(chem_dist.keys(), chem_dist.values())\n",
    "plt.xlabel('Source datasets')\n",
    "plt.ylabel('OTDD')\n",
    "plt.title(f'OTDD between source datasets and target {target_dataset.task_id}')\n",
    "plt.xticks(rotation=90)\n",
    "plt.grid(axis='y', linestyle='--', alpha=1.0)\n",
    "plt.show()"
   ]
  },
  {
   "cell_type": "code",
   "execution_count": 121,
   "metadata": {},
   "outputs": [
    {
     "data": {
      "text/plain": [
       "dict_keys(['CHEMBL2219236', 'CHEMBL1963831', 'CHEMBL2219358'])"
      ]
     },
     "execution_count": 121,
     "metadata": {},
     "output_type": "execute_result"
    }
   ],
   "source": [
    "chem_distances.keys()"
   ]
  }
 ],
 "metadata": {
  "kernelspec": {
   "display_name": "pytorch",
   "language": "python",
   "name": "python3"
  },
  "language_info": {
   "codemirror_mode": {
    "name": "ipython",
    "version": 3
   },
   "file_extension": ".py",
   "mimetype": "text/x-python",
   "name": "python",
   "nbconvert_exporter": "python",
   "pygments_lexer": "ipython3",
   "version": "3.10.12"
  }
 },
 "nbformat": 4,
 "nbformat_minor": 2
}
